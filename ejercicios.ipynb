{
 "cells": [
  {
   "attachments": {},
   "cell_type": "markdown",
   "metadata": {},
   "source": [
    "# Parte #1 - Programación y Sintaxis"
   ]
  },
  {
   "attachments": {},
   "cell_type": "markdown",
   "metadata": {},
   "source": [
    "**(1)** Haga un programa en Python que reciba de parámetro un número de segundos y que despliegue en pantalla, las horas, minutos y segundos que representan. Por ejemplo:\n",
    "* Si el número de segundos recibidos fuera: 2743 entonces su programa debería desplegar: Horas: 0, Minutos: 45 , Segundos: 43\n",
    "* Si el número de segundos recibidos fuera 5871: Horas: 1, Minutos: 37 , Segundos: 51"
   ]
  },
  {
   "cell_type": "code",
   "execution_count": 6,
   "metadata": {},
   "outputs": [
    {
     "name": "stdout",
     "output_type": "stream",
     "text": [
      "Horas: 0, Minutos: 45, Segundos: 43\n",
      "Horas: 1, Minutos: 37, Segundos: 51\n"
     ]
    }
   ],
   "source": [
    "def desplegarTiempo(segs):\n",
    "    horas = segs // 3600 # División floor\n",
    "    segundos_restantes = segs % 3600 # Se obtien el resto de los segundos\n",
    "    minutos = segundos_restantes // 60 # División floor\n",
    "    segundos = segundos_restantes % 60\n",
    "    \n",
    "    print(f\"Horas: {horas}, Minutos: {minutos}, Segundos: {segundos}\")\n",
    "\n",
    "# Llamando la función\n",
    "desplegarTiempo(2743)\n",
    "desplegarTiempo(5871)"
   ]
  },
  {
   "attachments": {},
   "cell_type": "markdown",
   "metadata": {},
   "source": [
    "**(2)** Haga una función en Python que dado un número entre 1 y 20. Y un carácter cualquiera despliegue cuatro patrones triangulares.\n"
   ]
  },
  {
   "cell_type": "code",
   "execution_count": 43,
   "metadata": {},
   "outputs": [
    {
     "name": "stdout",
     "output_type": "stream",
     "text": [
      "Primer Triangulo: \n",
      "\n",
      "   *\n",
      "  **\n",
      " ***\n",
      "****\n",
      "\n",
      "Segundo Triangulo: \n",
      "\n",
      "****\n",
      " ***\n",
      "  **\n",
      "   *\n",
      "    \n",
      "\n",
      "Tercer Triangulo: \n",
      "\n",
      "*\n",
      "**\n",
      "***\n",
      "****\n",
      "\n",
      "Cuarto Triangulo: \n",
      "\n",
      "****\n",
      "***\n",
      "**\n",
      "*\n"
     ]
    }
   ],
   "source": [
    "def desplegarTriangulos(numeroMax, caracter):\n",
    "    print(\"Primer Triangulo: \\n\")\n",
    "    for i in range(1, numeroMax+1):\n",
    "        print(\" \"*(numeroMax-i) + caracter*i)\n",
    "    print(\"\\nSegundo Triangulo: \\n\")\n",
    "    for i in reversed(range(numeroMax + 1)):\n",
    "        print(\" \"*(numeroMax-i) + caracter*i)\n",
    "    print(\"\\nTercer Triangulo: \\n\")\n",
    "    for i in range(1, numeroMax+1):\n",
    "        print(caracter*i)\n",
    "    print(\"\\nCuarto Triangulo: \\n\")\n",
    "    for i in range(numeroMax, 0, -1):\n",
    "        print(caracter*i)\n",
    "\n",
    "# Llamando la función\n",
    "desplegarTriangulos(4, '*')"
   ]
  },
  {
   "attachments": {},
   "cell_type": "markdown",
   "metadata": {},
   "source": [
    "**(3)** Haga un programa en Python que la fecha de nacimiento de una persona (puede ingresar por separado cada valor, es decir pedir primero dia, luego mes y luego año), despliegue la edad de la persona en años, meses y días. Su resultado puede ser aproximado."
   ]
  },
  {
   "cell_type": "code",
   "execution_count": 44,
   "metadata": {},
   "outputs": [],
   "source": [
    "# Se importa librería para calculos de la edad\n",
    "from datetime import date"
   ]
  },
  {
   "cell_type": "code",
   "execution_count": 48,
   "metadata": {},
   "outputs": [
    {
     "name": "stdout",
     "output_type": "stream",
     "text": [
      "23 años, 11 meses, 22 días\n"
     ]
    }
   ],
   "source": [
    "class Persona:\n",
    "    def __init__(self, dia, mes, year):\n",
    "        self.fecha_nacimiento = date(year, mes, dia)\n",
    "        \n",
    "    def calcular_edad(self):\n",
    "        tiempo_entre = date.today() - self.fecha_nacimiento\n",
    "        dias = (tiempo_entre.days % 365) % 30\n",
    "        meses = int((tiempo_entre.days % 365) / 30)\n",
    "        years = int(tiempo_entre.days / 365)\n",
    "        \n",
    "        return f\"{years} años, {meses} meses, {dias} días\"\n",
    "\n",
    "# Se instancia la persona\n",
    "persona = Persona(10, 3, 1999)\n",
    "# Se calcula la edad de la persona\n",
    "print(persona.calcular_edad())"
   ]
  },
  {
   "attachments": {},
   "cell_type": "markdown",
   "metadata": {},
   "source": [
    "**(4)** Escriba una función en Python que dada una tupla de elementos (números o letras) esta se convierta a un string. Tomar nota del siguiente ejemplo:\n",
    "* Si la entrada fuera: (10, 20, 40, 5, 70)\n",
    "* La salida debería ser: 102040570"
   ]
  },
  {
   "cell_type": "code",
   "execution_count": 56,
   "metadata": {},
   "outputs": [
    {
     "name": "stdout",
     "output_type": "stream",
     "text": [
      "102040570\n",
      "A100B29AA\n"
     ]
    }
   ],
   "source": [
    "def convertirTuplaString(tupla):\n",
    "    res = \"\"\n",
    "    for elem in tupla:\n",
    "        res = res + str(elem) # El \"str\" es por si son números\n",
    "    return res\n",
    "\n",
    "ejem = (10, 20, 40, 5, 70)\n",
    "ejem1 = ('A', 100, 'B', 29, 'AA')\n",
    "print(convertirTuplaString(ejem))\n",
    "print(convertirTuplaString(ejem1))"
   ]
  },
  {
   "attachments": {},
   "cell_type": "markdown",
   "metadata": {},
   "source": [
    "**(5)** Cree un programa en Python que dada una lista de tuplas, elimine las tuplas que están vacías."
   ]
  },
  {
   "cell_type": "code",
   "execution_count": 59,
   "metadata": {},
   "outputs": [
    {
     "name": "stdout",
     "output_type": "stream",
     "text": [
      "Esta es la lista limpia: [('X',), ('a', 'b'), ('a', 'b', 'c'), ('d',)]\n"
     ]
    }
   ],
   "source": [
    "def eliminarElementosVacios(listaTuplas):\n",
    "    cleanTuplas = []\n",
    "    for tupla in listaTuplas:\n",
    "        if(len(tupla) > 0):\n",
    "            cleanTuplas.append(tupla)\n",
    "    return cleanTuplas\n",
    "\n",
    "lista = [(), (), ('X',), ('a', 'b'), ('a', 'b', 'c'), ('d',)]\n",
    "listaNueva = eliminarElementosVacios(lista)\n",
    "print(\"Esta es la lista limpia: {}\".format(listaNueva))"
   ]
  },
  {
   "attachments": {},
   "cell_type": "markdown",
   "metadata": {},
   "source": [
    "**(6)** Cree una funcón en Python que dada una tupla de tuplas con números, produzca una tupla con el promedio de cada tupla individual."
   ]
  },
  {
   "cell_type": "code",
   "execution_count": 62,
   "metadata": {},
   "outputs": [
    {
     "name": "stdout",
     "output_type": "stream",
     "text": [
      "Estos son los promedios: (2.0, 5.0, 8.0)\n"
     ]
    }
   ],
   "source": [
    "def promedio_tuplas(tupla_tuplas):\n",
    "    promedios = []\n",
    "    for tupla in tupla_tuplas:\n",
    "        promedios.append(sum(tupla) / len(tupla))\n",
    "    return tuple(promedios) # Se castea a tupla antes de devolver\n",
    "\n",
    "# Ejemplo de uso de la función\n",
    "ejem = ((1, 2, 3), (4, 5, 6), (7, 8, 9))\n",
    "promedios = promedio_tuplas(ejem)\n",
    "print(\"Estos son los promedios: {}\".format(promedios))"
   ]
  },
  {
   "attachments": {},
   "cell_type": "markdown",
   "metadata": {},
   "source": [
    "**(7)** Escribe un programa que gestione las facturas pendientes de cobro de una empresa. Las facturas se almacenaran en un diccionario donde la llave de cada factura será el numero de factura (debe utilizar un numero de 4 digitos) y el valor el coste de la factura. El programa debe preguntar al usuario si quiere añadir una nueva factura, pagar una existente o terminar.\n",
    "Si desea añadir una nueva factura se preguntará por el numero de factura y su coste y se\n",
    "añadirá al diccionario, para confirmar que la factura se ingreso correctamente el programa\n",
    "debe desplegar el diccionario completo. Si se desea pagar una factura se preguntará por el\n",
    "número de factura y se eliminará del diccionario. Después de cada operación el programa\n",
    "debe mostrar en pantalla la cantidad cobrada hasta el momento y la cantidad pendiente de\n",
    "cobro."
   ]
  },
  {
   "cell_type": "code",
   "execution_count": 76,
   "metadata": {},
   "outputs": [
    {
     "name": "stdout",
     "output_type": "stream",
     "text": [
      "\n",
      "¡Bienvenido al programa para el manejo de facturas!\n",
      "A continuación se le muestran una serie de opciones a elegir: \n",
      "1. Añadir una nueva factura\n",
      "2. Pagar una factura existente\n",
      "3. Salir\n",
      "\n",
      "La factura 1234 y su costo 50.0 ha sido añadido al registro.\n",
      "Facturas pendientes: {'1234': 50.0}\n",
      "\n",
      "Estado de las facturas:\n",
      "Cantidad cobrada: 0\n",
      "Cantidad pendiente de cobro: 50.0\n",
      "\n",
      "1. Añadir una nueva factura\n",
      "2. Pagar una factura existente\n",
      "3. Salir\n",
      "\n",
      "La factura 1234 con coste 50.0 ha sido pagada.\n",
      "Facturas pendientes: {}\n",
      "\n",
      "Estado de las facturas:\n",
      "Cantidad cobrada: 50.0\n",
      "Cantidad pendiente de cobro: 0\n",
      "\n",
      "1. Añadir una nueva factura\n",
      "2. Pagar una factura existente\n",
      "3. Salir\n",
      "\n",
      "Saliendo del programa...\n"
     ]
    }
   ],
   "source": [
    "facturas_pendientes = {}\n",
    "total_cobrado = 0\n",
    "\n",
    "# Función para mostrar el estado de las facturas pendientes\n",
    "def mostrarEstadoFacturas():\n",
    "    total_pendiente = sum(facturas_pendientes.values())\n",
    "    print(\"\\nEstado de las facturas:\")\n",
    "    print(\"Cantidad cobrada: {}\".format(total_cobrado))\n",
    "    print(\"Cantidad pendiente de cobro: {}\\n\".format(total_pendiente))\n",
    "\n",
    "print(\"\\n¡Bienvenido al programa para el manejo de facturas!\")\n",
    "print(\"A continuación se le muestran una serie de opciones a elegir: \")\n",
    "\n",
    "while True:\n",
    "    print(\"1. Añadir una nueva factura\")\n",
    "    print(\"2. Pagar una factura existente\")\n",
    "    print(\"3. Salir\")\n",
    "    opcion = input(\"Ingrese el número de opción: \")\n",
    "\n",
    "    if opcion == \"1\":\n",
    "        noFactura = input(\"Ingrese el número de la nueva factura (4 dígitos de tamaño): \")\n",
    "        coste = float(input(\"Ingrese el coste de la factura: \"))\n",
    "        facturas_pendientes[noFactura] = coste\n",
    "        print(f\"\\nLa factura {noFactura} y su costo {coste} ha sido añadido al registro.\")\n",
    "        print(\"Facturas pendientes: {}\".format(facturas_pendientes))\n",
    "        mostrarEstadoFacturas()\n",
    "\n",
    "    elif opcion == \"2\":\n",
    "        noFactura = input(\"Ingrese el número de la factura que desea pagar: \")\n",
    "        if noFactura in facturas_pendientes:\n",
    "            coste = facturas_pendientes[noFactura]\n",
    "            del facturas_pendientes[noFactura]\n",
    "            total_cobrado += coste\n",
    "            print(f\"\\nLa factura {noFactura} con coste {coste} ha sido pagada.\")\n",
    "            print(\"Facturas pendientes: {}\".format(facturas_pendientes))\n",
    "            mostrarEstadoFacturas()\n",
    "        else:\n",
    "            print(f\"La factura {noFactura} no se encuentra en el registro de facturas pendientes.\")\n",
    "\n",
    "    elif opcion == \"3\":\n",
    "        print(\"\\nSaliendo del programa...\")\n",
    "        break\n",
    "\n",
    "    else:\n",
    "        print(\"Por favor seleccione una opción disponible, puede elegir la 1,2 o 3\")\n",
    "        break\n"
   ]
  }
 ],
 "metadata": {
  "kernelspec": {
   "display_name": "Python 3",
   "language": "python",
   "name": "python3"
  },
  "language_info": {
   "codemirror_mode": {
    "name": "ipython",
    "version": 3
   },
   "file_extension": ".py",
   "mimetype": "text/x-python",
   "name": "python",
   "nbconvert_exporter": "python",
   "pygments_lexer": "ipython3",
   "version": "3.10.0"
  },
  "orig_nbformat": 4,
  "vscode": {
   "interpreter": {
    "hash": "369f2c481f4da34e4445cda3fffd2e751bd1c4d706f27375911949ba6bb62e1c"
   }
  }
 },
 "nbformat": 4,
 "nbformat_minor": 2
}
